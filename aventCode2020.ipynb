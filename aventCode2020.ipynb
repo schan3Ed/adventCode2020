{
  "nbformat": 4,
  "nbformat_minor": 0,
  "metadata": {
    "colab": {
      "name": "aventCode2020.ipynb",
      "provenance": [],
      "collapsed_sections": [],
      "toc_visible": true,
      "mount_file_id": "1RUorsDM6YPhQGqa4w4Xh0GsdPYzoof-V",
      "authorship_tag": "ABX9TyM3biU7Ir6RDQ9KjDgghJGR",
      "include_colab_link": true
    },
    "kernelspec": {
      "name": "python3",
      "display_name": "Python 3"
    }
  },
  "cells": [
    {
      "cell_type": "markdown",
      "metadata": {
        "id": "view-in-github",
        "colab_type": "text"
      },
      "source": [
        "<a href=\"https://colab.research.google.com/github/schan3Ed/adventCode2020/blob/main/aventCode2020.ipynb\" target=\"_parent\"><img src=\"https://colab.research.google.com/assets/colab-badge.svg\" alt=\"Open In Colab\"/></a>"
      ]
    },
    {
      "cell_type": "code",
      "metadata": {
        "id": "2OTGHtcku9A4"
      },
      "source": [
        "import itertools\n",
        "import numpy as np\n",
        "import re"
      ],
      "execution_count": null,
      "outputs": []
    },
    {
      "cell_type": "markdown",
      "metadata": {
        "id": "2lzkfH_ElbAL"
      },
      "source": [
        "## DAY 1 Find any two number that has sum of 2020. Then return the product of them.\n",
        "\n",
        "- Compute the n choose 2 or n choose 3 combo\n",
        "- Filter\n",
        "- Compute the product of remaining columns\n",
        "- Done\n"
      ]
    },
    {
      "cell_type": "code",
      "metadata": {
        "id": "iLTHYDNilL6R"
      },
      "source": [
        "data = 'day1.txt'\n",
        "x = np.genfromtxt(data)"
      ],
      "execution_count": null,
      "outputs": []
    },
    {
      "cell_type": "code",
      "metadata": {
        "id": "nZP1gGuJlaEW"
      },
      "source": [
        "for comb in itertools.combinations(x, 2):\n",
        "  if comb[0] + comb[1] == 2020:\n",
        "    print(comb[0] * comb[1])"
      ],
      "execution_count": null,
      "outputs": []
    },
    {
      "cell_type": "code",
      "metadata": {
        "id": "FrVSQPoTl5G5"
      },
      "source": [
        "for comb in itertools.combinations(x, 3):\n",
        "  if comb[0] + comb[1] + comb[2] == 2020:\n",
        "    print(comb[0] * comb[1] * comb[2])"
      ],
      "execution_count": null,
      "outputs": []
    },
    {
      "cell_type": "markdown",
      "metadata": {
        "id": "bgN0zFVctdhc"
      },
      "source": [
        "## DAY 2 Filter by lambda\n",
        "- Given (range, character, string)\n",
        "- Filter by lambda l\n",
        "- where l : string.contain(character) within range"
      ]
    },
    {
      "cell_type": "code",
      "metadata": {
        "id": "A9i4pBccr81z"
      },
      "source": [
        "path = 'day2.txt'\n",
        "data = np.loadtxt(path, dtype=str, delimiter=\"\\n\")\n",
        "sp = [re.split(r'-| |:| ', line) for line in data]"
      ],
      "execution_count": null,
      "outputs": []
    },
    {
      "cell_type": "code",
      "metadata": {
        "id": "Eh3G7C2dsdSW"
      },
      "source": [
        "int(sp[0][0]) <= sp[0][4].count(sp[0][2]) <= int(sp[0][1])"
      ],
      "execution_count": null,
      "outputs": []
    },
    {
      "cell_type": "code",
      "metadata": {
        "id": "eNwQlux0vG3y"
      },
      "source": [
        "l = [x for x in sp if int(x[0]) <= x[4].count(x[2]) <= int(x[1])]\n",
        "print(len(l))"
      ],
      "execution_count": null,
      "outputs": []
    },
    {
      "cell_type": "code",
      "metadata": {
        "id": "YSaRBr9LvWiV"
      },
      "source": [
        "l = [x for x in sp if len(x[4]) >= (int(x[1]) - 1)]\n",
        "l = [x for x in l if x[4][int(x[1]) - 1] != x[4][int(x[0]) - 1]]\n",
        "l = [x for x in l if x[4][int(x[1]) - 1] == x[2] or x[4][int(x[0]) - 1] == x[2]]\n",
        "print(len(l))"
      ],
      "execution_count": null,
      "outputs": []
    },
    {
      "cell_type": "markdown",
      "metadata": {
        "id": "XpofcKHI3miV"
      },
      "source": [
        "## DAY 3 modulo map iterator\n",
        "- iterate through line\n",
        "- calculate '#' on line n * 3 % len(line)"
      ]
    },
    {
      "cell_type": "code",
      "metadata": {
        "id": "n4dJuyG80XC_"
      },
      "source": [
        "path = 'day3.txt'\n",
        "data = np.loadtxt(path, dtype=str, delimiter=\"\\n\", comments=None)\n",
        "data[:10]"
      ],
      "execution_count": null,
      "outputs": []
    },
    {
      "cell_type": "code",
      "metadata": {
        "id": "vkgnGvLz4PnR"
      },
      "source": [
        "sum = 0\n",
        "for i, d in enumerate(data):\n",
        "  sum += int(d[i * 3 % len(data[0])] == \"#\")\n",
        "print(sum)"
      ],
      "execution_count": null,
      "outputs": []
    },
    {
      "cell_type": "code",
      "metadata": {
        "id": "zpBwGANW4Qyf"
      },
      "source": [
        "prod = 1\n",
        "for right, down in [(1, 1), (3, 1), (5, 1), (7, 1), (1, 2)]:\n",
        "  sum = 0\n",
        "  for i, d in enumerate(data):\n",
        "    if i % down != 0:\n",
        "      continue\n",
        "    sum += int(d[int(i * right / down) % len(data[0])] == \"#\")\n",
        "  prod *= sum\n",
        "print(prod)"
      ],
      "execution_count": null,
      "outputs": []
    },
    {
      "cell_type": "markdown",
      "metadata": {
        "id": "KqlBSdE-8Lng"
      },
      "source": [
        "## Day 4 Filter valid passport"
      ]
    },
    {
      "cell_type": "code",
      "metadata": {
        "id": "gP1SsVyO8iP2"
      },
      "source": [
        "path = 'day4.txt'\n",
        "data = []\n",
        "with open(path) as file:\n",
        "  data.append(\"\")\n",
        "  for f in file:\n",
        "    if f == \"\\n\":\n",
        "      data[-1] = data[-1].replace('\\n', ' ')\n",
        "      data.append(\"\")\n",
        "      continue\n",
        "    data[-1] += (f)\n",
        "data[:10]"
      ],
      "execution_count": null,
      "outputs": []
    },
    {
      "cell_type": "code",
      "metadata": {
        "id": "aeWFdeZP8kh-"
      },
      "source": [
        "# print(re.findall('[a-z]+:', data[0]))\n",
        "# print(data[0].count('cid:'))\n",
        "\n",
        "l = [x for x in data if len(re.findall(\"[a-z]+:\", x)) == (7 + x.count('cid:'))]\n",
        "print(l)\n",
        "print(len(l))"
      ],
      "execution_count": null,
      "outputs": []
    },
    {
      "cell_type": "code",
      "metadata": {
        "id": "a5-AMiDA96D3"
      },
      "source": [
        "la = [re.findall(\"[a-z]+:\", x) for x in l]\n",
        "la2 = [re.findall(\":[a-z0-9#]+\", x) for x in l]\n",
        "print(la2)\n",
        "print(len(la))"
      ],
      "execution_count": null,
      "outputs": []
    },
    {
      "cell_type": "code",
      "metadata": {
        "id": "NciugQzpB8VK"
      },
      "source": [
        "sum = 0\n",
        "items = []\n",
        "for j, z in enumerate(zip(la, la2)):\n",
        "  valid = 0\n",
        "  for i in range(len(z[0])):\n",
        "    p = z[0][i][:-1]\n",
        "    q = z[1][i][1:]\n",
        "    if p == 'byr' and not (1920 <= int(q) <= 2002):\n",
        "      break\n",
        "    if p == 'iyr' and not (2010 <= int(q) <= 2020):\n",
        "      break\n",
        "    if p == 'eyr' and not (2020 <= int(q) <= 2030):\n",
        "      break\n",
        "    if p == 'hgt':\n",
        "      if q[-2:] != \"cm\" and q[-2:] != \"in\":\n",
        "        break\n",
        "      if q[-2:] == \"cm\" and not (150 <= int(q[:-2]) <= 193):\n",
        "        break\n",
        "      if q[-2:] == \"in\" and not (59 <= int(q[:-2]) <= 76):\n",
        "        break\n",
        "    if p == 'hcl' and len(re.findall('^#[0-9a-f]{6}$', q)) == 0:\n",
        "      break\n",
        "    if p == 'ecl' and q not in ['amb', 'blu', 'brn', 'gry', 'grn', 'hzl', 'oth']:\n",
        "      break\n",
        "    if p == 'pid' and len(re.findall('^[0-9]{9}$', q)) == 0:\n",
        "      break\n",
        "    if p != 'cid':\n",
        "      valid += 1\n",
        "  if valid == 7:\n",
        "    items += [l[j]]\n",
        "  # else:\n",
        "    # print(l[j], valid)\n",
        "print(len(items))"
      ],
      "execution_count": null,
      "outputs": []
    },
    {
      "cell_type": "code",
      "metadata": {
        "id": "rJROZi5LD4eB"
      },
      "source": [
        ""
      ],
      "execution_count": null,
      "outputs": []
    },
    {
      "cell_type": "markdown",
      "metadata": {
        "id": "xpGGvbvVUkrz"
      },
      "source": [
        "## DAY 5 Binary Parser"
      ]
    },
    {
      "cell_type": "code",
      "metadata": {
        "id": "lAdkG127UljC"
      },
      "source": [
        "data = 'day5.txt'\n",
        "x = np.genfromtxt(data, delimiter='\\n', dtype=str)"
      ],
      "execution_count": null,
      "outputs": []
    },
    {
      "cell_type": "code",
      "metadata": {
        "id": "Lr5AR_H5Uu_w"
      },
      "source": [
        "m = 0\n",
        "l = []\n",
        "for seq in x:\n",
        "  row = int(seq[:7].replace('B', '1').replace('F', '0'), 2)\n",
        "  col = int(seq[7:].replace('L', '0').replace('R', '1'), 2)\n",
        "  m = max(row * 8 + col, m)\n",
        "  l += [row * 8 + col]\n",
        "print(m)"
      ],
      "execution_count": null,
      "outputs": []
    },
    {
      "cell_type": "code",
      "metadata": {
        "id": "oL1syJYlVGBk"
      },
      "source": [
        "l = sorted(l)\n",
        "for i, _ in enumerate(l):\n",
        "  if l[i] != l[i + 1] - 1:\n",
        "    print(l[i], l[i + 1])\n",
        "    break"
      ],
      "execution_count": null,
      "outputs": []
    },
    {
      "cell_type": "code",
      "metadata": {
        "id": "xmbUeEAtZUis"
      },
      "source": [
        ""
      ],
      "execution_count": null,
      "outputs": []
    }
  ]
}